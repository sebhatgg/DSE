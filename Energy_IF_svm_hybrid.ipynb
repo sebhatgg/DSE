{
 "cells": [
  {
   "cell_type": "code",
   "execution_count": 5,
   "id": "c1aa5f34",
   "metadata": {},
   "outputs": [],
   "source": [
    "from sklearn.svm import SVC # Support Vector Classifier for anomaly detection\n",
    "from sklearn.ensemble import IsolationForest\n",
    "from sklearn.metrics import precision_score, recall_score, f1_score, confusion_matrix, ConfusionMatrixDisplay\n",
    "import numpy as np\n",
    "import matplotlib.pyplot as plt\n",
    "from sklearn.model_selection import train_test_split\n",
    "\n",
    "import pandas as pd\n",
    "import numpy as np\n",
    "from sklearn.model_selection import train_test_split\n",
    "from sklearn.preprocessing import StandardScaler\n",
    "from sklearn.svm import OneClassSVM\n",
    "from sklearn.metrics import classification_report, confusion_matrix\n",
    "import matplotlib.pyplot as plt\n",
    "import seaborn as sns\n",
    "from sklearn.metrics import precision_score, recall_score, f1_score, confusion_matrix\n",
    "from sklearn.feature_selection import SelectKBest, f_classif\n",
    "from sklearn.metrics import precision_recall_fscore_support, confusion_matrix\n",
    "from sklearn.svm import OneClassSVM"
   ]
  },
  {
   "cell_type": "code",
   "execution_count": 11,
   "id": "e63bd478",
   "metadata": {},
   "outputs": [
    {
     "name": "stdout",
     "output_type": "stream",
     "text": [
      "Precision: 0.8181818181818182\n",
      "Recall: 0.005451241671714113\n",
      "F1 Score: 0.010830324909747294\n"
     ]
    },
    {
     "data": {
      "image/png": "[encoded data removed]",
      "text/plain": [
       "<Figure size 640x480 with 2 Axes>"
      ]
     },
     "metadata": {},
     "output_type": "display_data"
    },
    {
     "name": "stdout",
     "output_type": "stream",
     "text": [
      "              precision    recall  f1-score   support\n",
      "\n",
      "           0       0.72      1.00      0.84      4270\n",
      "           1       0.82      0.01      0.01      1651\n",
      "\n",
      "    accuracy                           0.72      5921\n",
      "   macro avg       0.77      0.50      0.42      5921\n",
      "weighted avg       0.75      0.72      0.61      5921\n",
      "\n"
     ]
    }
   ],
   "source": [
    "\n",
    "def hybrid_anomaly_detection_with_isolation_forest_first():\n",
    "    \n",
    "    # Load dataset\n",
    "    data = pd.read_csv('energydata.csv')\n",
    "    \n",
    "    data = data.drop('date', axis=1)\n",
    "    \n",
    "    X = data.drop('Windspeed', axis=1)  # Assuming 'target' is the column name of the continuous target variable\n",
    "    y_cont = data['Windspeed']\n",
    "    \n",
    "    #convert all the values in the columns into numeric\n",
    "    for column in data.columns:\n",
    "        data[column] = pd.to_numeric(data[column], errors='coerce')\n",
    "\n",
    "    data.dropna(axis=0, inplace=True)\n",
    "    \n",
    "#     #Scatter plot\n",
    "#     sns.pairplot(data, kind='scatter')\n",
    "#     plt.title('Scatter Plot')\n",
    "#     plt.show()\n",
    "    \n",
    "    \n",
    "    y = np.where(y_cont > 5, 1, 0)  # Define `threshold` based on the dataset\n",
    "    \n",
    "        \n",
    "    # Select top k features; you might adjust k based on your dataset\n",
    "    selector = SelectKBest(f_classif, k=10)\n",
    "    X_selected = selector.fit_transform(X, y)\n",
    "    \n",
    "    X_selected\n",
    "    \n",
    "    # Initialize and fit Isolation Forest\n",
    "    iso_forest = IsolationForest(contamination=0.1)  # adjust contamination as needed\n",
    "    iso_predictions = iso_forest.fit_predict(X_selected)\n",
    "\n",
    "    # Convert Isolation Forest output from {-1, 1} to {0, 1} (0 for anomaly, 1 for normal)\n",
    "    iso_predictions = np.where(iso_predictions == 1, 0, 1)  # flipping the labels for consistency with target\n",
    "    \n",
    "    # Add Isolation Forest predictions as a feature\n",
    "    X_extended = X.copy()\n",
    "    X_extended['iso_forest_outcome'] = iso_predictions\n",
    "    \n",
    "    \n",
    "    # Split the extended dataset for training and testing\n",
    "    X_train, X_test, y_train, y_test = train_test_split(X_extended, y, test_size=0.3, random_state=42)\n",
    "\n",
    "    # Initialize and fit SVM\n",
    "    svm_model = OneClassSVM(kernel='rbf', gamma='auto')\n",
    "    svm_model.fit(X_train[y_train == 1])  # Train only on normal data\n",
    "\n",
    "    # Predict on test data\n",
    "    svm_predictions = svm_model.predict(X_test)\n",
    "    svm_predictions = np.where(svm_predictions == 1, 1, 0)  # Convert {-1, 1} to {0, 1}\n",
    "    \n",
    "    \n",
    "    # Calculate precision, recall, and F1 score\n",
    "    precision = precision_score(y_test, svm_predictions)\n",
    "    recall = recall_score(y_test, svm_predictions)\n",
    "    f1 = f1_score(y_test, svm_predictions)\n",
    "\n",
    "    print(f'Precision: {precision}')\n",
    "    print(f'Recall: {recall}')\n",
    "    print(f'F1 Score: {f1}')\n",
    "    \n",
    "    \n",
    "    # Generate confusion matrix\n",
    "    cm = confusion_matrix(y_test, svm_predictions)\n",
    "    disp = ConfusionMatrixDisplay(confusion_matrix=cm, display_labels=['Anomaly', 'Normal'])\n",
    "\n",
    "    # Plot confusion matrix\n",
    "    disp.plot(cmap=plt.cm.Blues)\n",
    "    plt.show()\n",
    "    \n",
    "        # Evaluation\n",
    "    precision = precision_score(y_test, svm_predictions)\n",
    "    recall = recall_score(y_test, svm_predictions)\n",
    "    f1 = f1_score(y_test, svm_predictions)\n",
    "    \n",
    "    print(classification_report(y_test, svm_predictions))\n",
    "\n",
    "# Usage Example\n",
    "# Assuming X and y are defined, where X is your feature set and y are your labels (1 for normal, -1 for anomalies)\n",
    "hybrid_anomaly_detection_with_isolation_forest_first()\n"
   ]
  },
  {
   "cell_type": "code",
   "execution_count": null,
   "id": "e0509e43",
   "metadata": {},
   "outputs": [],
   "source": []
  },
  {
   "cell_type": "code",
   "execution_count": null,
   "id": "265a64c7",
   "metadata": {},
   "outputs": [],
   "source": []
  }
 ],
 "metadata": {
  "kernelspec": {
   "display_name": "Python 3 (ipykernel)",
   "language": "python",
   "name": "python3"
  },
  "language_info": {
   "codemirror_mode": {
    "name": "ipython",
    "version": 3
   },
   "file_extension": ".py",
   "mimetype": "text/x-python",
   "name": "python",
   "nbconvert_exporter": "python",
   "pygments_lexer": "ipython3",
   "version": "3.9.13"
  }
 },
 "nbformat": 4,
 "nbformat_minor": 5
}
