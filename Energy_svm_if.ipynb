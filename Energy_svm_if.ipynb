{
 "cells": [
  {
   "cell_type": "code",
   "execution_count": 2,
   "id": "288411ba",
   "metadata": {},
   "outputs": [],
   "source": [
    "from sklearn.svm import SVC # Support Vector Classifier for anomaly detection\n",
    "from sklearn.ensemble import IsolationForest\n",
    "from sklearn.metrics import precision_score, recall_score, f1_score, confusion_matrix, ConfusionMatrixDisplay\n",
    "import numpy as np\n",
    "import matplotlib.pyplot as plt\n",
    "from sklearn.model_selection import train_test_split\n",
    "\n",
    "import pandas as pd\n",
    "import numpy as np\n",
    "from sklearn.model_selection import train_test_split\n",
    "from sklearn.preprocessing import StandardScaler\n",
    "from sklearn.svm import OneClassSVM\n",
    "from sklearn.metrics import classification_report, confusion_matrix\n",
    "import matplotlib.pyplot as plt\n",
    "import seaborn as sns\n",
    "from sklearn.metrics import precision_score, recall_score, f1_score, confusion_matrix\n",
    "from sklearn.feature_selection import SelectKBest, f_classif"
   ]
  },
  {
   "cell_type": "code",
   "execution_count": 3,
   "id": "c9355305",
   "metadata": {},
   "outputs": [
    {
     "name": "stdout",
     "output_type": "stream",
     "text": [
      "              precision    recall  f1-score   support\n",
      "\n",
      "           0       0.70      0.50      0.58      2912\n",
      "           1       0.22      0.41      0.29      1035\n",
      "\n",
      "    accuracy                           0.47      3947\n",
      "   macro avg       0.46      0.45      0.44      3947\n",
      "weighted avg       0.58      0.47      0.51      3947\n",
      "\n"
     ]
    },
    {
     "data": {
      "image/png": "[encoded data removed]",
      "text/plain": [
       "<Figure size 640x480 with 2 Axes>"
      ]
     },
     "metadata": {},
     "output_type": "display_data"
    }
   ],
   "source": [
    "from sklearn.model_selection import train_test_split\n",
    "from sklearn.svm import OneClassSVM\n",
    "from sklearn.ensemble import IsolationForest\n",
    "from sklearn.metrics import precision_score, recall_score, f1_score, confusion_matrix, ConfusionMatrixDisplay\n",
    "import numpy as np\n",
    "import matplotlib.pyplot as plt\n",
    "\n",
    "def hybrid_anomaly_detection_svm_if():\n",
    "    \n",
    "    data = pd.read_csv('energydata.csv')\n",
    "    \n",
    "    data = data.drop('date', axis=1)\n",
    "    \n",
    "    X = data.drop('Windspeed', axis=1)  # Assuming 'target' is the column name of the continuous target variable\n",
    "    y_cont = data['Windspeed']\n",
    "    \n",
    "    #convert all the values in the columns into numeric\n",
    "    for column in data.columns:\n",
    "        data[column] = pd.to_numeric(data[column], errors='coerce')\n",
    "\n",
    "    data.dropna(axis=0, inplace=True)\n",
    "    \n",
    "#     #Scatter plot\n",
    "#     sns.pairplot(data, kind='scatter')\n",
    "#     plt.title('Scatter Plot')\n",
    "#     plt.show()\n",
    "    \n",
    "    \n",
    "    y = np.where(y_cont > 5, 1, 0)  # Define `threshold` based on the dataset\n",
    "    \n",
    "        \n",
    "    # Select top k features; you might adjust k based on your dataset\n",
    "    selector = SelectKBest(f_classif, k=10)\n",
    "    X_selected = selector.fit_transform(X, y)\n",
    "    \n",
    "    \n",
    "    # Split the dataset into training and test sets\n",
    "    X_train, X_test, y_train, y_test = train_test_split(X_selected, y, test_size=0.2, random_state=5)\n",
    "    \n",
    "    # Phase 1: SVM for initial anomaly detection\n",
    "    svm_model = OneClassSVM(nu=0.1, kernel='rbf', gamma='auto').fit(X_train)\n",
    "    svm_predictions = svm_model.predict(X_train)\n",
    "    # Prepare SVM predictions for training Isolation Forest\n",
    "    svm_predictions_for_if = (svm_predictions == -1).astype(int)  # Convert -1 to 0 (anomaly) and 1 to 1 (normal)\n",
    "\n",
    "    # Enhance the original training data with SVM predictions\n",
    "    X_train_enhanced = np.hstack((X_train, svm_predictions_for_if.reshape(-1, 1)))\n",
    "    X_test_enhanced = np.hstack((X_test, svm_model.predict(X_test).reshape(-1, 1)))\n",
    "    \n",
    "    # Phase 2: Train Isolation Forest with the enhanced dataset\n",
    "    iso_forest = IsolationForest(contamination='auto', n_estimators=100, random_state=5).fit(X_train_enhanced)\n",
    "    iso_forest_predictions = iso_forest.predict(X_test_enhanced)\n",
    "    iso_forest_predictions_binary = (iso_forest_predictions == 1).astype(int)  # Convert -1 to 0 and 1 to 1\n",
    "    \n",
    "    print(classification_report(y_test, iso_forest_predictions_binary))\n",
    "    \n",
    "    # Evaluation\n",
    "    precision = precision_score(y_test, iso_forest_predictions_binary)\n",
    "    recall = recall_score(y_test, iso_forest_predictions_binary)\n",
    "    f1 = f1_score(y_test, iso_forest_predictions_binary)\n",
    "    #print(f\"Precision: {precision}, Recall: {recall}, F1 Score: {f1}\")\n",
    "    \n",
    "    \n",
    "        # Confusion Matrix Visualization\n",
    "    conf_matrix = confusion_matrix(y_test, iso_forest_predictions_binary)\n",
    "    sns.heatmap(conf_matrix, annot=True, fmt='d', cmap='Reds', xticklabels=['Normal', 'Anomaly'], yticklabels=['Normal', 'Anomaly'])\n",
    "    plt.xlabel('Predicted')\n",
    "    plt.ylabel('True')\n",
    "    plt.title('Confusion Matrix')\n",
    "    plt.show()\n",
    "    \n",
    "    \n",
    "        # Evaluate the SVM model\n",
    "    precision = precision_score(y_test, iso_forest_predictions_binary, average='micro')\n",
    "    recall = recall_score(y_test, iso_forest_predictions_binary, average='micro')\n",
    "    f1 = f1_score(y_test, iso_forest_predictions_binary, average='micro')\n",
    "    conf_matrix = confusion_matrix(y_test, iso_forest_predictions_binary)\n",
    "    \n",
    "\n",
    "hybrid_anomaly_detection_svm_if()\n"
   ]
  },
  {
   "cell_type": "code",
   "execution_count": null,
   "id": "bdc21ec5",
   "metadata": {},
   "outputs": [],
   "source": []
  },
  {
   "cell_type": "code",
   "execution_count": null,
   "id": "eb544f3c",
   "metadata": {},
   "outputs": [],
   "source": []
  }
 ],
 "metadata": {
  "kernelspec": {
   "display_name": "Python 3 (ipykernel)",
   "language": "python",
   "name": "python3"
  },
  "language_info": {
   "codemirror_mode": {
    "name": "ipython",
    "version": 3
   },
   "file_extension": ".py",
   "mimetype": "text/x-python",
   "name": "python",
   "nbconvert_exporter": "python",
   "pygments_lexer": "ipython3",
   "version": "3.9.13"
  }
 },
 "nbformat": 4,
 "nbformat_minor": 5
}
