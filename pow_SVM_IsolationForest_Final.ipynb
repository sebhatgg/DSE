{
 "cells": [
  {
   "cell_type": "markdown",
   "id": "01ceb976",
   "metadata": {},
   "source": [
    "#### The development of a hybrid anomaly detection model begins by loading and cleaning the dataset to remove inconsistencies and irrelevant data. Proceed with selecting the most predictive features for anomaly detection. Divide the data into training and testing sets, ensuring that both contain a representative mix of anomalies and normal instances. Apply feature scaling to standardize the range of the data features, which is crucial for many modeling techniques. Fit the hybrid model, which typically integrates multiple anomaly detection methods to leverage their individual strengths. Finally, the model's effectiveness will be evaluated using precision, recall, and the F1-score, and performance will be visually assessed with a confusion matrix. This comprehensive approach ensures that the hybrid model is robust, accurate, and reliable in detecting anomalies across different data scenarios, instilling assurance in its reliability."
   ]
  },
  {
   "cell_type": "code",
   "execution_count": 1,
   "id": "a268f4a1",
   "metadata": {},
   "outputs": [],
   "source": [
    "import pandas as pd\n",
    "import numpy as np\n",
    "from sklearn.preprocessing import StandardScaler\n",
    "from sklearn.model_selection import train_test_split\n",
    "from sklearn.feature_selection import SelectKBest, f_classif\n",
    "from sklearn.svm import SVC\n",
    "from sklearn.ensemble import IsolationForest\n",
    "from sklearn.metrics import precision_score, recall_score, f1_score, confusion_matrix\n",
    "import matplotlib.pyplot as plt\n",
    "from sklearn.metrics import classification_report, confusion_matrix\n",
    "from sklearn.metrics import precision_score, recall_score, f1_score, confusion_matrix, ConfusionMatrixDisplay\n",
    "from sklearn.svm import OneClassSVM\n",
    "from sklearn.preprocessing import LabelEncoder"
   ]
  },
  {
   "cell_type": "code",
   "execution_count": 9,
   "id": "ac41b610",
   "metadata": {},
   "outputs": [
    {
     "name": "stdout",
     "output_type": "stream",
     "text": [
      "<class 'pandas.core.frame.DataFrame'>\n",
      "Int64Index: 50000 entries, 350735 to 352413\n",
      "Data columns (total 7 columns):\n",
      " #   Column                 Non-Null Count  Dtype  \n",
      "---  ------                 --------------  -----  \n",
      " 0   Global_active_power    50000 non-null  object \n",
      " 1   Global_reactive_power  50000 non-null  object \n",
      " 2   Voltage                50000 non-null  object \n",
      " 3   Global_intensity       50000 non-null  object \n",
      " 4   Sub_metering_1         50000 non-null  object \n",
      " 5   Sub_metering_2         50000 non-null  object \n",
      " 6   Sub_metering_3         49797 non-null  float64\n",
      "dtypes: float64(1), object(6)\n",
      "memory usage: 3.1+ MB\n",
      "Precision: 0.925\n",
      "Recall: 0.846\n",
      "F1 Score: 0.872\n",
      "              precision    recall  f1-score   support\n",
      "\n",
      "           0       0.35      0.85      0.50       903\n",
      "           1       0.98      0.85      0.91      9057\n",
      "\n",
      "    accuracy                           0.85      9960\n",
      "   macro avg       0.67      0.85      0.70      9960\n",
      "weighted avg       0.93      0.85      0.87      9960\n",
      "\n"
     ]
    },
    {
     "data": {
      "image/png": "[encoded data removed]",
      "text/plain": [
       "<Figure size 640x480 with 2 Axes>"
      ]
     },
     "metadata": {},
     "output_type": "display_data"
    }
   ],
   "source": [
    "\n",
    "def hybrid_anomaly_detection():\n",
    "    # Load the dataset\n",
    "    data1 = pd.read_csv('pow_cons.csv')\n",
    "    \n",
    "    data = data1.sample(n=50000, random_state=5)\n",
    "    \n",
    "    data = data.drop(['Date','Time'], axis=1)\n",
    "    data.info()\n",
    "    \n",
    "    data.dropna(axis=0, inplace=True)\n",
    "    \n",
    "    #convert all the values in the columns into numeric\n",
    "    for column in data.columns:\n",
    "        data[column] = pd.to_numeric(data[column], errors='coerce')\n",
    "    \n",
    "    X = data.drop('Global_active_power', axis=1)  # Assuming 'label' is the target column\n",
    "    y_cont = data['Global_active_power']\n",
    "\n",
    "    # First, binarize `y` based on a chosen threshold.\n",
    "    y = np.where(y_cont > 0.2, 1, 0)  # Define `threshold` based on the dataset\n",
    "\n",
    "    # Select top k features; k might be adjusted based on the dataset\n",
    "    selector = SelectKBest(f_classif, k=3)\n",
    "    X_selected = selector.fit_transform(X, y)\n",
    "    \n",
    "    # Split the data into train and test sets\n",
    "    X_train, X_test, y_train, y_test = train_test_split(X_selected, y, test_size=0.2, random_state=42)\n",
    "    \n",
    "    # Scale the features\n",
    "    scaler = StandardScaler()\n",
    "    X_train_scaled = scaler.fit_transform(X_train)\n",
    "    X_test_scaled = scaler.transform(X_test)\n",
    "\n",
    "    \n",
    "    # Use SVM to identify normal data points\n",
    "    svm = SVC(kernel='rbf', gamma='auto')\n",
    "    svm.fit(X_train_scaled, y_train)\n",
    "    svm_preds = svm.predict(X_train_scaled)\n",
    "    \n",
    "    # Append SVM predictions as a new feature to the scaled data\n",
    "    X_train_scaled_with_pred = np.hstack((X_train_scaled, svm_preds.reshape(-1, 1)))\n",
    "    \n",
    "    # Filter only normal data points as identified by SVM\n",
    "    normal_indices = np.where(svm_preds == 0)[0]  # Assuming '0' is normal\n",
    "    X_train_normal = X_train_scaled[normal_indices]\n",
    "    \n",
    "    # Train Isolation Forest on the filtered normal data\n",
    "    iso_forest = IsolationForest(contamination=0.1, n_estimators=100, random_state=42)\n",
    "    iso_forest.fit(X_train_normal)\n",
    "    \n",
    "    # Prepare test data by appending SVM predictions\n",
    "    svm_preds_test = svm.predict(X_test_scaled)\n",
    "    X_test_scaled_with_pred = np.hstack((X_test_scaled, svm_preds_test.reshape(-1, 1)))\n",
    "    \n",
    "    # Predict and evaluate the model on the test set using Isolation Forest\n",
    "    iso_preds = iso_forest.predict(X_test_scaled_with_pred[:, :-1])  # Exclude the appended SVM predictions\n",
    "    # Convert predictions to match the original label (1 for normal, -1 for anomaly)\n",
    "    iso_preds = np.where(iso_preds == 1, 0, 1)  # Assuming '0' is normal, '1' is anomaly\n",
    "    \n",
    "    # Evaluate the final outcome from Isolation Forest\n",
    "    precision = precision_score(y_test, iso_preds, average='weighted', zero_division=0)\n",
    "    recall = recall_score(y_test, iso_preds, average='weighted', zero_division=0)\n",
    "    f1 = f1_score(y_test, iso_preds, average='weighted', zero_division=0)\n",
    "    \n",
    "    print(f'Precision: {precision:.3f}')\n",
    "    print(f'Recall: {recall:.3f}')\n",
    "    print(f'F1 Score: {f1:.3f}')\n",
    "    \n",
    "    print(classification_report(y_test, iso_preds))\n",
    "    \n",
    "    \n",
    "    # Use a confusion matrix for visualization of the outcome\n",
    "    \n",
    "    cm = confusion_matrix(y_test, iso_preds, labels=[0, 1])\n",
    "    disp = ConfusionMatrixDisplay(confusion_matrix=cm, display_labels=['Anomaly', 'Normal'])\n",
    "    disp.plot()\n",
    "    plt.show()\n",
    "\n",
    "hybrid_anomaly_detection()"
   ]
  },
  {
   "cell_type": "code",
   "execution_count": null,
   "id": "cb48a1cd",
   "metadata": {},
   "outputs": [],
   "source": []
  }
 ],
 "metadata": {
  "kernelspec": {
   "display_name": "Python 3 (ipykernel)",
   "language": "python",
   "name": "python3"
  },
  "language_info": {
   "codemirror_mode": {
    "name": "ipython",
    "version": 3
   },
   "file_extension": ".py",
   "mimetype": "text/x-python",
   "name": "python",
   "nbconvert_exporter": "python",
   "pygments_lexer": "ipython3",
   "version": "3.9.13"
  }
 },
 "nbformat": 4,
 "nbformat_minor": 5
}
