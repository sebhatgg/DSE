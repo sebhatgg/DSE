{
 "cells": [
  {
   "cell_type": "code",
   "execution_count": 1,
   "id": "f82ddc7b",
   "metadata": {},
   "outputs": [
    {
     "name": "stdout",
     "output_type": "stream",
     "text": [
      "Classification Report:\n",
      "              precision    recall  f1-score   support\n",
      "\n",
      "           0       0.74      0.90      0.81      2912\n",
      "           1       0.27      0.10      0.15      1035\n",
      "\n",
      "    accuracy                           0.69      3947\n",
      "   macro avg       0.50      0.50      0.48      3947\n",
      "weighted avg       0.61      0.69      0.64      3947\n",
      "\n",
      "Accuracy Score: 0.6893843425386369\n"
     ]
    },
    {
     "data": {
      "image/png": "[encoded data removed]",
      "text/plain": [
       "<Figure size 640x480 with 2 Axes>"
      ]
     },
     "metadata": {},
     "output_type": "display_data"
    },
    {
     "name": "stdout",
     "output_type": "stream",
     "text": [
      "Precision: 0.69\n",
      "Recall: 0.69\n",
      "F1 Score: 0.69\n"
     ]
    }
   ],
   "source": [
    "import pandas as pd\n",
    "from sklearn.model_selection import train_test_split\n",
    "from sklearn.preprocessing import StandardScaler\n",
    "from sklearn.ensemble import IsolationForest\n",
    "from sklearn.metrics import classification_report, confusion_matrix, accuracy_score\n",
    "import matplotlib.pyplot as plt\n",
    "import seaborn as sns\n",
    "import numpy as np\n",
    "from sklearn.metrics import precision_score, recall_score, f1_score, confusion_matrix\n",
    "from sklearn.feature_selection import SelectKBest, f_classif\n",
    "\n",
    "def anomaly_detection_isolation_forest():\n",
    "    \n",
    "    #load dataset\n",
    "    data = pd.read_csv('energydata.csv')\n",
    "    \n",
    "    data = data.drop('date', axis=1)\n",
    "    \n",
    "    X = data.drop('Windspeed', axis=1)  # Assuming 'target' is the column name of the continuous target variable\n",
    "    y_cont = data['Windspeed']\n",
    "    \n",
    "    #convert all the values in the columns into numeric\n",
    "    for column in data.columns:\n",
    "        data[column] = pd.to_numeric(data[column], errors='coerce')\n",
    "\n",
    "    data.dropna(axis=0, inplace=True)\n",
    "    \n",
    "        # Select top k features; you might adjust k based on your dataset\n",
    "    selector = SelectKBest(f_classif, k=5)\n",
    "    X_selected = selector.fit_transform(X, y_cont)\n",
    "    \n",
    "    X_selected\n",
    "    \n",
    "    y_cont = np.where(y_cont > 5, 1, 0)  # Define `threshold` based on your domain knowledge\n",
    "    \n",
    "    # Split the dataset\n",
    "    X_train, X_test, y_train, y_test = train_test_split(X_selected, y_cont, test_size=0.2, random_state=5)\n",
    "    \n",
    "    # Feature scaling\n",
    "    scaler = StandardScaler()\n",
    "    X_train_scaled = scaler.fit_transform(X_train)\n",
    "    X_test_scaled = scaler.transform(X_test)\n",
    "    \n",
    "    # Train Isolation Forest\n",
    "    clf = IsolationForest(n_estimators=100, contamination=0.1, random_state=5)\n",
    "    clf.fit(X_train_scaled)\n",
    "    \n",
    "    # Predictions\n",
    "    y_pred = clf.predict(X_test_scaled)\n",
    "    y_pred = np.where(y_pred == 1, 0, 1)  # Convert predictions: -1 for anomalies, 1 for normal to match our labels\n",
    "    \n",
    "    # Evaluation\n",
    "    print(\"Classification Report:\")\n",
    "    print(classification_report(y_test, y_pred))\n",
    "    print(\"Accuracy Score:\", accuracy_score(y_test, y_pred))\n",
    "    \n",
    "    # Confusion Matrix Visualization\n",
    "    conf_matrix = confusion_matrix(y_test, y_pred)\n",
    "    sns.heatmap(conf_matrix, annot=True, fmt='d', cmap='Accent', xticklabels=['Normal', 'Anomaly'], yticklabels=['Normal', 'Anomaly'])\n",
    "    plt.xlabel('Predicted')\n",
    "    plt.ylabel('True')\n",
    "    plt.title('Confusion Matrix')\n",
    "    plt.show()\n",
    "    \n",
    "     # Evaluate the SVM model\n",
    "    precision = precision_score(y_test, y_pred, average='micro')\n",
    "    recall = recall_score(y_test, y_pred, average='micro')\n",
    "    f1 = f1_score(y_test, y_pred, average='micro')\n",
    "    conf_matrix = confusion_matrix(y_test, y_pred)\n",
    "    \n",
    "     # Print the evaluation metrics\n",
    "    print(\"Precision: {:.2f}\".format(precision))\n",
    "    print(\"Recall: {:.2f}\".format(recall))\n",
    "    print(\"F1 Score: {:.2f}\".format(f1))\n",
    "\n",
    "# Example usage:\n",
    "anomaly_detection_isolation_forest()\n"
   ]
  },
  {
   "cell_type": "code",
   "execution_count": null,
   "id": "3e4b46c0",
   "metadata": {},
   "outputs": [],
   "source": []
  }
 ],
 "metadata": {
  "kernelspec": {
   "display_name": "Python 3 (ipykernel)",
   "language": "python",
   "name": "python3"
  },
  "language_info": {
   "codemirror_mode": {
    "name": "ipython",
    "version": 3
   },
   "file_extension": ".py",
   "mimetype": "text/x-python",
   "name": "python",
   "nbconvert_exporter": "python",
   "pygments_lexer": "ipython3",
   "version": "3.9.13"
  }
 },
 "nbformat": 4,
 "nbformat_minor": 5
}
