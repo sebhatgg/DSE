{
 "cells": [
  {
   "cell_type": "markdown",
   "id": "01ceb976",
   "metadata": {},
   "source": [
    "#### The development of a hybrid anomaly detection model begins by loading and cleaning the dataset to remove inconsistencies and irrelevant data. Proceed with selecting the most predictive features for anomaly detection. Divide the data into training and testing sets, ensuring that both contain a representative mix of anomalies and normal instances. Apply feature scaling to standardize the range of the data features, which is crucial for many modeling techniques. Fit the hybrid model, which typically integrates multiple anomaly detection methods to leverage their individual strengths. Finally, the model's effectiveness will be evaluated using precision, recall, and the F1-score, and performance will be visually assessed with a confusion matrix. This comprehensive approach ensures that the hybrid model is robust, accurate, and reliable in detecting anomalies across different data scenarios, instilling assurance in its reliability."
   ]
  },
  {
   "cell_type": "code",
   "execution_count": 1,
   "id": "a268f4a1",
   "metadata": {},
   "outputs": [],
   "source": [
    "import pandas as pd\n",
    "import numpy as np\n",
    "from sklearn.preprocessing import StandardScaler\n",
    "from sklearn.model_selection import train_test_split\n",
    "from sklearn.feature_selection import SelectKBest, f_classif\n",
    "from sklearn.svm import SVC\n",
    "from sklearn.ensemble import IsolationForest\n",
    "from sklearn.metrics import precision_score, recall_score, f1_score, confusion_matrix\n",
    "import matplotlib.pyplot as plt\n",
    "from sklearn.metrics import classification_report, confusion_matrix\n",
    "from sklearn.metrics import precision_score, recall_score, f1_score, confusion_matrix, ConfusionMatrixDisplay\n",
    "from sklearn.svm import OneClassSVM\n",
    "from sklearn.preprocessing import LabelEncoder"
   ]
  },
  {
   "cell_type": "code",
   "execution_count": 6,
   "id": "ac41b610",
   "metadata": {},
   "outputs": [
    {
     "name": "stdout",
     "output_type": "stream",
     "text": [
      "<class 'pandas.core.frame.DataFrame'>\n",
      "RangeIndex: 52177 entries, 0 to 52176\n",
      "Data columns (total 8 columns):\n",
      " #   Column        Non-Null Count  Dtype  \n",
      "---  ------        --------------  -----  \n",
      " 0   eiaid         52177 non-null  int64  \n",
      " 1   utility_name  52177 non-null  int32  \n",
      " 2   state         52177 non-null  int32  \n",
      " 3   service_type  52177 non-null  int32  \n",
      " 4   ownership     52177 non-null  int32  \n",
      " 5   comm_rate     52177 non-null  float64\n",
      " 6   ind_rate      52177 non-null  float64\n",
      " 7   res_rate      52177 non-null  float64\n",
      "dtypes: float64(3), int32(4), int64(1)\n",
      "memory usage: 2.4 MB\n"
     ]
    },
    {
     "name": "stderr",
     "output_type": "stream",
     "text": [
      "C:\\Users\\sebha\\anaconda3\\lib\\site-packages\\sklearn\\feature_selection\\_univariate_selection.py:112: UserWarning: Features [4] are constant.\n",
      "  warnings.warn(\"Features %s are constant.\" % constant_features_idx, UserWarning)\n",
      "C:\\Users\\sebha\\anaconda3\\lib\\site-packages\\sklearn\\feature_selection\\_univariate_selection.py:113: RuntimeWarning: invalid value encountered in divide\n",
      "  f = msb / msw\n"
     ]
    },
    {
     "name": "stdout",
     "output_type": "stream",
     "text": [
      "Precision: 0.655\n",
      "Recall: 0.655\n",
      "F1 Score: 0.655\n",
      "              precision    recall  f1-score   support\n",
      "\n",
      "           0       0.92      0.69      0.79      9754\n",
      "           1       0.02      0.09      0.03       682\n",
      "\n",
      "    accuracy                           0.65     10436\n",
      "   macro avg       0.47      0.39      0.41     10436\n",
      "weighted avg       0.86      0.65      0.74     10436\n",
      "\n"
     ]
    },
    {
     "data": {
      "image/png": "[encoded data removed]",
      "text/plain": [
       "<Figure size 640x480 with 2 Axes>"
      ]
     },
     "metadata": {},
     "output_type": "display_data"
    }
   ],
   "source": [
    "\n",
    "def hybrid_anomaly_detection():\n",
    "    # Load the dataset\n",
    "    data = pd.read_csv('US_Util_2020.csv')\n",
    "    \n",
    "    #convert all the values in the columns into numeric\n",
    "    label_encoder = LabelEncoder()\n",
    "    for column in data.select_dtypes(include=['object']).columns:\n",
    "        data[column] = label_encoder.fit_transform(data[column])\n",
    "    \n",
    "    \n",
    "    data = data.drop(['zip'], axis=1)\n",
    "    \n",
    "    data.info()\n",
    "    X = data.drop('res_rate', axis=1)  # Assuming 'target' is the column name of the continuous target variable\n",
    "    y_cont = data['res_rate']\n",
    "    \n",
    "    data = data.dropna(axis=0, inplace=True)\n",
    "#     #convert all the values in the columns into numeric\n",
    "#     for column in data.columns:\n",
    "#         data[column] = pd.to_numeric(data[column], errors='coerce')\n",
    "\n",
    "    y = np.where(y_cont > 0.2, 1, 0)  # Define `threshold` based on your domain knowledge\n",
    "    \n",
    "    selector = SelectKBest(f_classif, k=6)\n",
    "    X_selected = selector.fit_transform(X, y)\n",
    "    \n",
    "    X_selected\n",
    "    \n",
    "    # Split the data into train and test sets\n",
    "    X_train, X_test, y_train, y_test = train_test_split(X_selected, y, test_size=0.2, random_state=42)\n",
    "    \n",
    "    # Scale the features\n",
    "    scaler = StandardScaler()\n",
    "    X_train_scaled = scaler.fit_transform(X_train)\n",
    "    X_test_scaled = scaler.transform(X_test)\n",
    "    \n",
    "    # Use SVM to identify normal data points\n",
    "#     svm = SVC(kernel='rbf', gamma='auto')\n",
    "#     svm.fit(X_train_scaled, y_train)\n",
    "#     svm_preds = svm.predict(X_train_scaled)\n",
    "    \n",
    "    oc_svm = OneClassSVM(kernel='rbf', gamma=0.1, nu=0.01)\n",
    "    oc_svm.fit(X_train_scaled)\n",
    "    svm_preds = oc_svm.predict(X_train_scaled)\n",
    "    \n",
    "    \n",
    "    # Filter only normal data points as identified by SVM\n",
    "    normal_indices = np.where(svm_preds == y_train)[0]  # Assuming '0' is normal, '1' is anomaly\n",
    "    X_train_normal = X_train_scaled[normal_indices]\n",
    "    y_train_normal = y_train[normal_indices]\n",
    "    \n",
    "    # Train Isolation Forest on the filtered normal data\n",
    "    iso_forest = IsolationForest(contamination=0.1, n_estimators=100, random_state=42)\n",
    "    iso_forest.fit(X_train_normal)\n",
    "    \n",
    "    # Predict and evaluate the model on the test set\n",
    "    iso_preds = iso_forest.predict(X_test_scaled)\n",
    "    # Convert predictions to match the original label (1 for normal, -1 for anomaly)\n",
    "    iso_preds = np.where(iso_preds == 1, 0, 1)  # Assuming '0' is normal, '1' is anomaly\n",
    "    \n",
    "    # Evaluate the final outcome\n",
    "    precision = precision_score(y_test, iso_preds, average='micro', zero_division=0)\n",
    "    recall = recall_score(y_test, iso_preds, average='micro', zero_division=0)\n",
    "    f1 = f1_score(y_test, iso_preds, average='micro', zero_division=0)\n",
    "    \n",
    "    print(f'Precision: {precision:.3f}')\n",
    "    print(f'Recall: {recall:.3f}')\n",
    "    print(f'F1 Score: {f1:.3f}')\n",
    "    \n",
    "    print(classification_report(y_test, iso_preds))\n",
    "    \n",
    "    \n",
    "    # Use a confusion matrix for visualization of the outcome\n",
    "    \n",
    "    cm = confusion_matrix(y_test, iso_preds, labels=[0, 1])\n",
    "    disp = ConfusionMatrixDisplay(confusion_matrix=cm, display_labels=['Anomaly', 'Normal'])\n",
    "    disp.plot()\n",
    "    plt.show()\n",
    "\n",
    "hybrid_anomaly_detection()"
   ]
  },
  {
   "cell_type": "code",
   "execution_count": null,
   "id": "cb48a1cd",
   "metadata": {},
   "outputs": [],
   "source": []
  }
 ],
 "metadata": {
  "kernelspec": {
   "display_name": "Python 3 (ipykernel)",
   "language": "python",
   "name": "python3"
  },
  "language_info": {
   "codemirror_mode": {
    "name": "ipython",
    "version": 3
   },
   "file_extension": ".py",
   "mimetype": "text/x-python",
   "name": "python",
   "nbconvert_exporter": "python",
   "pygments_lexer": "ipython3",
   "version": "3.9.13"
  }
 },
 "nbformat": 4,
 "nbformat_minor": 5
}
