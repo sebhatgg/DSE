{
 "cells": [
  {
   "cell_type": "markdown",
   "id": "c7caa896",
   "metadata": {},
   "source": [
    "##### To use a Support Vector Machine (SVM) for anomaly detection, start by loading and cleaning the dataset to ensure data quality. Next, select key features that are indicative of anomalies and split the dataset into training and testing portions. Applying feature scaling to normalize data dimensions is crucial for SVM performance. Train the SVM model with appropriate kernel functions and parameters. Finally, the model will be evaluated using precision, recall, and the F1-score, and its performance will be visualized with a confusion matrix. This structured approach ensures the SVM model effectively identifies anomalies, balancing detection accuracy and model reliability."
   ]
  },
  {
   "cell_type": "code",
   "execution_count": 5,
   "id": "98a7a25d",
   "metadata": {},
   "outputs": [],
   "source": [
    "import pandas as pd\n",
    "import numpy as np\n",
    "from sklearn.preprocessing import StandardScaler\n",
    "from sklearn.model_selection import train_test_split\n",
    "from sklearn.feature_selection import SelectKBest, f_classif\n",
    "from sklearn.svm import SVC\n",
    "from sklearn.metrics import precision_score, recall_score, f1_score, confusion_matrix\n",
    "import matplotlib.pyplot as plt\n",
    "from sklearn.metrics import classification_report, confusion_matrix"
   ]
  },
  {
   "cell_type": "code",
   "execution_count": 6,
   "id": "6c92488e",
   "metadata": {},
   "outputs": [
    {
     "name": "stdout",
     "output_type": "stream",
     "text": [
      "Precision: 0.832\n",
      "Recall: 0.835\n",
      "F1 Score: 0.824\n",
      "              precision    recall  f1-score   support\n",
      "\n",
      "           0       0.81      0.55      0.66      1870\n",
      "           1       0.84      0.95      0.89      4643\n",
      "\n",
      "    accuracy                           0.83      6513\n",
      "   macro avg       0.83      0.75      0.77      6513\n",
      "weighted avg       0.83      0.83      0.82      6513\n",
      "\n"
     ]
    },
    {
     "data": {
      "image/png": "[encoded data removed]",
      "text/plain": [
       "<Figure size 800x600 with 2 Axes>"
      ]
     },
     "metadata": {},
     "output_type": "display_data"
    }
   ],
   "source": [
    "\n",
    "def anomaly_detection_svm():\n",
    "    # Load the dataset\n",
    "    \n",
    "    \n",
    "    data = pd.read_csv('energydata.csv')\n",
    "    \n",
    "    data = data.drop('date', axis=1)\n",
    "    \n",
    "    X = data.drop('Windspeed', axis=1)  # Assuming 'target' is the column name of the continuous target variable\n",
    "    y_cont = data['Windspeed']\n",
    "    \n",
    "    #convert all the values in the columns into numeric\n",
    "    for column in data.columns:\n",
    "        data[column] = pd.to_numeric(data[column], errors='coerce')\n",
    "\n",
    "    y = np.where(y_cont > 2, 1, 0)  # Define `threshold` based on the dataset\n",
    "    \n",
    "    # Select top k features; you might adjust k based on your dataset\n",
    "    selector = SelectKBest(f_classif, k=10)\n",
    "    X_selected = selector.fit_transform(X, y)\n",
    "    \n",
    "    data.dropna(axis=0, inplace=True)\n",
    "    \n",
    "    \n",
    "    # Split the data into train and test\n",
    "    X_train, X_test, y_train, y_test = train_test_split(X_selected, y, test_size=0.33, random_state=42)\n",
    "    \n",
    "    # Scale the features\n",
    "    scaler = StandardScaler()\n",
    "    X_train_scaled = scaler.fit_transform(X_train)\n",
    "    X_test_scaled = scaler.transform(X_test)\n",
    "    \n",
    "    # Use SVM and fit the model\n",
    "    svm = SVC(kernel='rbf')\n",
    "    svm.fit(X_train_scaled, y_train)\n",
    "    \n",
    "    # Predict on the test set\n",
    "    y_pred = svm.predict(X_test_scaled)\n",
    "    \n",
    "    # Evaluate the final outcome\n",
    "    precision = precision_score(y_test, y_pred, average='weighted')\n",
    "    recall = recall_score(y_test, y_pred, average='weighted')\n",
    "    f1 = f1_score(y_test, y_pred, average='weighted')\n",
    "    \n",
    "    # Print evaluation metrics\n",
    "    print(f'Precision: {precision:.3f}')\n",
    "    print(f'Recall: {recall:.3f}')\n",
    "    print(f'F1 Score: {f1:.3f}')\n",
    "    \n",
    "    print(classification_report(y_test, y_pred))\n",
    "    \n",
    "    \n",
    "    # Use a confusion matrix for visualization of the outcome\n",
    "    cm = confusion_matrix(y_test, y_pred)\n",
    "    plt.figure(figsize=(8, 6))\n",
    "    plt.imshow(cm, cmap='Blues', interpolation='nearest')\n",
    "    plt.title('Confusion Matrix')\n",
    "    plt.colorbar()\n",
    "    plt.xticks(np.arange(len(np.unique(y_test))), np.unique(y_test))\n",
    "    plt.yticks(np.arange(len(np.unique(y_test))), np.unique(y_test))\n",
    "    plt.xlabel('Predicted labels')\n",
    "    plt.ylabel('True labels')\n",
    "    plt.show()\n",
    "\n",
    "# Example usage\n",
    "\n",
    "anomaly_detection_svm()"
   ]
  },
  {
   "cell_type": "code",
   "execution_count": null,
   "id": "ad4c1d30",
   "metadata": {},
   "outputs": [],
   "source": []
  }
 ],
 "metadata": {
  "kernelspec": {
   "display_name": "Python 3 (ipykernel)",
   "language": "python",
   "name": "python3"
  },
  "language_info": {
   "codemirror_mode": {
    "name": "ipython",
    "version": 3
   },
   "file_extension": ".py",
   "mimetype": "text/x-python",
   "name": "python",
   "nbconvert_exporter": "python",
   "pygments_lexer": "ipython3",
   "version": "3.9.13"
  }
 },
 "nbformat": 4,
 "nbformat_minor": 5
}
