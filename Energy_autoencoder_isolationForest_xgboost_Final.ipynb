{
 "cells": [
  {
   "cell_type": "markdown",
   "id": "f2cdbbdb",
   "metadata": {},
   "source": [
    "#### To build a hybrid anomaly detection model using a sparse autoencoder, Isolation Forest, and XGBoost, follow these steps: First, load and clean your data to ensure it is accurate and relevant. Next, select key features and split the dataset into training and testing sets. Normalize the features through scaling to ensure they are equally weighted. Use a sparse autoencoder to reduce the dimensionality of the data, facilitating more efficient processing. Apply an Isolation Forest to initially identify and isolate potential anomalies. Further refine this detection with XGBoost, enhancing the model's accuracy, especially for subtle anomalies. Finally, evaluate the model using precision, recall, F1-score, and a confusion matrix to assess its overall performance and accuracy. This sequential approach leverages each method's strengths to create a robust and effective anomaly detection system."
   ]
  },
  {
   "cell_type": "code",
   "execution_count": 1,
   "id": "b7e0d6ac",
   "metadata": {},
   "outputs": [],
   "source": [
    "import numpy as np\n",
    "import pandas as pd\n",
    "import matplotlib.pyplot as plt\n",
    "from sklearn.preprocessing import MinMaxScaler\n",
    "from sklearn.model_selection import train_test_split\n",
    "from sklearn.metrics import precision_score, recall_score, f1_score, confusion_matrix, ConfusionMatrixDisplay\n",
    "from sklearn.ensemble import IsolationForest\n",
    "from xgboost import XGBClassifier\n",
    "import tensorflow as tf\n",
    "from tensorflow.keras import layers, models, regularizers\n",
    "from sklearn.feature_selection import SelectKBest, f_classif\n",
    "from sklearn.metrics import classification_report, confusion_matrix\n",
    "from tensorflow.keras.layers import Input, Dense\n",
    "from tensorflow.keras.models import Model\n",
    "from sklearn.preprocessing import StandardScaler"
   ]
  },
  {
   "cell_type": "code",
   "execution_count": 9,
   "id": "bfbf93c4",
   "metadata": {},
   "outputs": [
    {
     "name": "stdout",
     "output_type": "stream",
     "text": [
      "617/617 [==============================] - 0s 697us/step\n",
      "Precision: 0.912\n",
      "Recall: 0.912\n",
      "F1 Score: 0.912\n",
      "              precision    recall  f1-score   support\n",
      "\n",
      "           0       0.92      0.94      0.93      2365\n",
      "           1       0.91      0.87      0.89      1582\n",
      "\n",
      "    accuracy                           0.91      3947\n",
      "   macro avg       0.91      0.91      0.91      3947\n",
      "weighted avg       0.91      0.91      0.91      3947\n",
      "\n"
     ]
    },
    {
     "data": {
      "image/png": "[encoded data removed]",
      "text/plain": [
       "<Figure size 640x480 with 2 Axes>"
      ]
     },
     "metadata": {},
     "output_type": "display_data"
    }
   ],
   "source": [
    "\n",
    "def hybrid_anomaly_detection_MAADM():\n",
    "    # Load data from a CSV file\n",
    "    data = pd.read_csv('energydata.csv')\n",
    "    \n",
    "    data.dropna(axis=0, inplace=True)\n",
    "    \n",
    "    data = data.drop('date', axis=1)\n",
    "    \n",
    "    X = data.drop('Windspeed', axis=1)  # Assuming 'Windspeed' is the column name of the continuous target variable\n",
    "    y_cont = data['Windspeed']\n",
    "    y = np.where(y_cont > 4, 1, 0)  # Define `threshold` based on the dataset\n",
    "    #convert all the values in the columns into numeric\n",
    "    for column in data.columns:\n",
    "        data[column] = pd.to_numeric(data[column], errors='coerce')\n",
    "    \n",
    "        \n",
    "    # Select top k features; you might adjust k based on the dataset\n",
    "    selector = SelectKBest(score_func=f_classif, k=10)\n",
    "    X_selected = selector.fit_transform(X, y)\n",
    "    \n",
    "    \n",
    "    # Dimensionality reduction with sparse autoencoder\n",
    "    input_dim = X_selected.shape[1]\n",
    "    encoding_dim = 32  # Dimension of the encoding layer\n",
    "    input_layer = Input(shape=(input_dim,))\n",
    "    encoded = Dense(encoding_dim, activation='relu', activity_regularizer=regularizers.l1(10e-5))(input_layer)\n",
    "    decoded = Dense(input_dim, activation='sigmoid')(encoded)\n",
    "    autoencoder = Model(inputs=input_layer, outputs=decoded)\n",
    "    autoencoder.compile(optimizer='adam', loss='mean_squared_error')\n",
    "    autoencoder.fit(X_selected, X_selected, epochs=50, batch_size=256, shuffle=True, verbose=0)\n",
    "    \n",
    "    encoder = Model(inputs=input_layer, outputs=encoded)\n",
    "    X_encoded = encoder.predict(X_selected)\n",
    "    \n",
    "    # Split the data into train and test sets\n",
    "    X_train, X_test, y_train, y_test = train_test_split(X_encoded, y, test_size=0.2, random_state=42)\n",
    "    \n",
    "    # Scale the features\n",
    "    scaler = StandardScaler()\n",
    "    X_train_scaled = scaler.fit_transform(X_train)\n",
    "    X_test_scaled = scaler.transform(X_test)\n",
    "    \n",
    "    # Use Isolation Forest to identify normal data points\n",
    "    iso_forest = IsolationForest(contamination=0.1, n_estimators=100, random_state=42)\n",
    "    iso_forest.fit(X_train_scaled)\n",
    "    iso_preds = iso_forest.predict(X_train_scaled)\n",
    "    \n",
    "    # Filter only normal data points as identified by Isolation Forest\n",
    "    normal_indices = np.where(iso_preds == 1)[0]  # Assuming '1' is normal\n",
    "    X_train_normal = X_train_scaled[normal_indices]\n",
    "    y_train_normal = y_train[normal_indices]\n",
    "    \n",
    "    # Train XGBoost on the filtered normal data\n",
    "    xgb = XGBClassifier(use_label_encoder=False, eval_metric='logloss', random_state=42)\n",
    "    xgb.fit(X_train_normal, y_train_normal)\n",
    "    \n",
    "    # Predict using XGBoost on the test set\n",
    "    xgb_preds = xgb.predict(X_test_scaled)\n",
    "    \n",
    "    # Evaluate the final outcome from XGBoost\n",
    "    precision = precision_score(y_test, xgb_preds, average='weighted', zero_division=0)\n",
    "    recall = recall_score(y_test, xgb_preds, average='weighted', zero_division=0)\n",
    "    f1 = f1_score(y_test, xgb_preds, average='weighted', zero_division=0)\n",
    "    \n",
    "    print(f'Precision: {precision:.3f}')\n",
    "    print(f'Recall: {recall:.3f}')\n",
    "    print(f'F1 Score: {f1:.3f}')\n",
    "    \n",
    "    print(classification_report(y_test, xgb_preds))\n",
    "\n",
    "\n",
    "    # Display the confusion matrix\n",
    "    cm = confusion_matrix(y_test, xgb_preds, labels=[0, 1])\n",
    "    disp = ConfusionMatrixDisplay(confusion_matrix=cm, display_labels=['Anomaly', 'Normal'])\n",
    "    disp.plot()\n",
    "    plt.show()\n",
    "    \n",
    "\n",
    "hybrid_anomaly_detection_MAADM()\n"
   ]
  },
  {
   "cell_type": "code",
   "execution_count": null,
   "id": "6e93252e",
   "metadata": {},
   "outputs": [],
   "source": []
  },
  {
   "cell_type": "code",
   "execution_count": null,
   "id": "14542097",
   "metadata": {},
   "outputs": [],
   "source": []
  }
 ],
 "metadata": {
  "kernelspec": {
   "display_name": "Python 3 (ipykernel)",
   "language": "python",
   "name": "python3"
  },
  "language_info": {
   "codemirror_mode": {
    "name": "ipython",
    "version": 3
   },
   "file_extension": ".py",
   "mimetype": "text/x-python",
   "name": "python",
   "nbconvert_exporter": "python",
   "pygments_lexer": "ipython3",
   "version": "3.9.13"
  }
 },
 "nbformat": 4,
 "nbformat_minor": 5
}
