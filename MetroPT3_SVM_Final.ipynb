{
 "cells": [
  {
   "cell_type": "markdown",
   "id": "c7caa896",
   "metadata": {},
   "source": [
    "##### To use a Support Vector Machine (SVM) for anomaly detection, start by loading and cleaning the dataset to ensure data quality. Next, select key features that are indicative of anomalies and split the dataset into training and testing portions. Applying feature scaling to normalize data dimensions is crucial for SVM performance. Train the SVM model with appropriate kernel functions and parameters. Finally, the model will be evaluated using precision, recall, and the F1-score, and its performance will be visualized with a confusion matrix. This structured approach ensures the SVM model effectively identifies anomalies, balancing detection accuracy and model reliability."
   ]
  },
  {
   "cell_type": "code",
   "execution_count": 1,
   "id": "98a7a25d",
   "metadata": {},
   "outputs": [],
   "source": [
    "import pandas as pd\n",
    "import numpy as np\n",
    "from sklearn.preprocessing import StandardScaler\n",
    "from sklearn.model_selection import train_test_split\n",
    "from sklearn.feature_selection import SelectKBest, f_classif\n",
    "from sklearn.svm import SVC\n",
    "from sklearn.metrics import precision_score, recall_score, f1_score, confusion_matrix\n",
    "import matplotlib.pyplot as plt\n",
    "from sklearn.metrics import classification_report, confusion_matrix\n",
    "from sklearn.preprocessing import LabelEncoder\n",
    "from sklearn.metrics import precision_score, recall_score, f1_score, confusion_matrix, ConfusionMatrixDisplay\n",
    "from sklearn.svm import OneClassSVM"
   ]
  },
  {
   "cell_type": "code",
   "execution_count": 27,
   "id": "6c92488e",
   "metadata": {},
   "outputs": [
    {
     "name": "stdout",
     "output_type": "stream",
     "text": [
      "Precision: 0.886\n",
      "Recall: 0.880\n",
      "F1 Score: 0.879\n",
      "              precision    recall  f1-score   support\n",
      "\n",
      "           0       0.84      0.95      0.89      7442\n",
      "           1       0.94      0.80      0.86      6558\n",
      "\n",
      "    accuracy                           0.88     14000\n",
      "   macro avg       0.89      0.87      0.88     14000\n",
      "weighted avg       0.89      0.88      0.88     14000\n",
      "\n"
     ]
    },
    {
     "data": {
      "image/png": "[encoded data removed]",
      "text/plain": [
       "<Figure size 640x480 with 2 Axes>"
      ]
     },
     "metadata": {},
     "output_type": "display_data"
    }
   ],
   "source": [
    "\n",
    "def anomaly_detection_svm():\n",
    "    # Load the dataset\n",
    "    \n",
    "    # Load data from a CSV file   \n",
    "    data1 = pd.read_csv('MetroPT3.csv')\n",
    "    \n",
    "    data = data1.sample(n=70000, random_state=5)\n",
    "    \n",
    "    data = data.drop(['timestamp'], axis=1)\n",
    "    data.dropna(axis=0, how='all', inplace=True)\n",
    "#     data.dropna(axis=1, how='all', inplace=True)\n",
    "    for column in data.columns:\n",
    "        data[column] = pd.to_numeric(data[column], errors='coerce')\n",
    "        \n",
    "#     data.info()\n",
    "    \n",
    "    \n",
    "    #convert all the values in the columns into numeric\n",
    "    for column in data.columns:\n",
    "        data[column] = pd.to_numeric(data[column], errors='coerce')\n",
    "    \n",
    "    X = data.drop('Reservoirs', axis=1)  # Assuming 'label' is your target column\n",
    "    y_cont = data['Reservoirs']\n",
    "#     y = data['Reservoirs']\n",
    "\n",
    "    # First, binarize `y` based on a chosen threshold.\n",
    "    y = np.where(y_cont > 9, 1, 0)  # Define `threshold` based on the dataset\n",
    "\n",
    "    # Select top k features; you might adjust k based on your dataset\n",
    "    selector = SelectKBest(f_classif, k=10)\n",
    "    X_selected = selector.fit_transform(X, y)\n",
    "    \n",
    "    # Split the data into train and test\n",
    "    X_train, X_test, y_train, y_test = train_test_split(X_selected, y, test_size=0.2, random_state=42)\n",
    "    \n",
    "\n",
    "    scaler = StandardScaler()\n",
    "    X_train_scaled = scaler.fit_transform(X_train)\n",
    "    X_test_scaled = scaler.transform(X_test)\n",
    "    \n",
    "     # Initialize One-Class SVM\n",
    "    # Note: nu should be an estimate of the proportion of outliers\n",
    "    oc_svm = OneClassSVM(kernel='rbf', gamma='auto', nu=0.05)\n",
    "    # Fit the model on the training data\n",
    "    # Note: One-Class SVM is typically trained only on the normal data (label 0)\n",
    "    oc_svm.fit(X_train_scaled[y_train == 0])\n",
    "#     oc_svm.fit(X_train_scaled)\n",
    "    \n",
    "    # Predict on the test data\n",
    "    y_pred = oc_svm.predict(X_test_scaled)\n",
    "    # Convert predictions to match the original label (1 for normal, -1 for anomaly)\n",
    "    y_pred = np.where(y_pred == 1, 0, 1)\n",
    "    \n",
    "    # Evaluate the final outcome\n",
    "    precision = precision_score(y_test, y_pred, average='weighted')\n",
    "    recall = recall_score(y_test, y_pred, average='weighted')\n",
    "    f1 = f1_score(y_test, y_pred, average='weighted')\n",
    "    \n",
    "    # Print evaluation metrics\n",
    "    print(f'Precision: {precision:.3f}')\n",
    "    print(f'Recall: {recall:.3f}')\n",
    "    print(f'F1 Score: {f1:.3f}')\n",
    "    \n",
    "    print(classification_report(y_test, y_pred))\n",
    "    \n",
    "    \n",
    "    # Use a confusion matrix for visualization of the outcome\n",
    "    cm = confusion_matrix(y_test, y_pred, labels=[0, 1])\n",
    "    disp = ConfusionMatrixDisplay(confusion_matrix=cm, display_labels=['Anomaly', 'Normal'])\n",
    "    disp.plot()\n",
    "    plt.show()\n",
    "\n",
    "\n",
    "anomaly_detection_svm()"
   ]
  },
  {
   "cell_type": "code",
   "execution_count": null,
   "id": "ad4c1d30",
   "metadata": {},
   "outputs": [],
   "source": []
  }
 ],
 "metadata": {
  "kernelspec": {
   "display_name": "Python 3 (ipykernel)",
   "language": "python",
   "name": "python3"
  },
  "language_info": {
   "codemirror_mode": {
    "name": "ipython",
    "version": 3
   },
   "file_extension": ".py",
   "mimetype": "text/x-python",
   "name": "python",
   "nbconvert_exporter": "python",
   "pygments_lexer": "ipython3",
   "version": "3.9.13"
  }
 },
 "nbformat": 4,
 "nbformat_minor": 5
}
