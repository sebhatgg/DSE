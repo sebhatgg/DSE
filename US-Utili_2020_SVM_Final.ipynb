{
 "cells": [
  {
   "cell_type": "markdown",
   "id": "c7caa896",
   "metadata": {},
   "source": [
    "##### To use a Support Vector Machine (SVM) for anomaly detection, start by loading and cleaning the dataset to ensure data quality. Next, select key features that are indicative of anomalies and split the dataset into training and testing portions. Applying feature scaling to normalize data dimensions is crucial for SVM performance. Train the SVM model with appropriate kernel functions and parameters. Finally, the model will be evaluated using precision, recall, and the F1-score, and its performance will be visualized with a confusion matrix. This structured approach ensures the SVM model effectively identifies anomalies, balancing detection accuracy and model reliability."
   ]
  },
  {
   "cell_type": "code",
   "execution_count": 1,
   "id": "98a7a25d",
   "metadata": {},
   "outputs": [],
   "source": [
    "import pandas as pd\n",
    "import numpy as np\n",
    "from sklearn.preprocessing import StandardScaler\n",
    "from sklearn.model_selection import train_test_split\n",
    "from sklearn.feature_selection import SelectKBest, f_classif\n",
    "from sklearn.svm import SVC\n",
    "from sklearn.metrics import precision_score, recall_score, f1_score, confusion_matrix\n",
    "import matplotlib.pyplot as plt\n",
    "from sklearn.metrics import classification_report, confusion_matrix\n",
    "from sklearn.preprocessing import LabelEncoder\n",
    "from sklearn.metrics import precision_score, recall_score, f1_score, confusion_matrix, ConfusionMatrixDisplay\n",
    "from sklearn.svm import OneClassSVM"
   ]
  },
  {
   "cell_type": "code",
   "execution_count": 3,
   "id": "6c92488e",
   "metadata": {},
   "outputs": [
    {
     "name": "stdout",
     "output_type": "stream",
     "text": [
      "<class 'pandas.core.frame.DataFrame'>\n",
      "RangeIndex: 52177 entries, 0 to 52176\n",
      "Data columns (total 8 columns):\n",
      " #   Column        Non-Null Count  Dtype  \n",
      "---  ------        --------------  -----  \n",
      " 0   eiaid         52177 non-null  int64  \n",
      " 1   utility_name  52177 non-null  int32  \n",
      " 2   state         52177 non-null  int32  \n",
      " 3   service_type  52177 non-null  int32  \n",
      " 4   ownership     52177 non-null  int32  \n",
      " 5   comm_rate     52177 non-null  float64\n",
      " 6   ind_rate      52177 non-null  float64\n",
      " 7   res_rate      52177 non-null  float64\n",
      "dtypes: float64(3), int32(4), int64(1)\n",
      "memory usage: 2.4 MB\n"
     ]
    },
    {
     "name": "stderr",
     "output_type": "stream",
     "text": [
      "C:\\Users\\sebha\\anaconda3\\lib\\site-packages\\sklearn\\feature_selection\\_univariate_selection.py:112: UserWarning: Features [4] are constant.\n",
      "  warnings.warn(\"Features %s are constant.\" % constant_features_idx, UserWarning)\n",
      "C:\\Users\\sebha\\anaconda3\\lib\\site-packages\\sklearn\\feature_selection\\_univariate_selection.py:113: RuntimeWarning: invalid value encountered in divide\n",
      "  f = msb / msw\n"
     ]
    },
    {
     "name": "stdout",
     "output_type": "stream",
     "text": [
      "Precision: 0.842\n",
      "Recall: 0.773\n",
      "F1 Score: 0.780\n",
      "              precision    recall  f1-score   support\n",
      "\n",
      "           0       0.60      0.94      0.73      3408\n",
      "           1       0.96      0.69      0.80      7028\n",
      "\n",
      "    accuracy                           0.77     10436\n",
      "   macro avg       0.78      0.82      0.77     10436\n",
      "weighted avg       0.84      0.77      0.78     10436\n",
      "\n"
     ]
    },
    {
     "data": {
      "image/png": "[encoded data removed]",
      "text/plain": [
       "<Figure size 640x480 with 2 Axes>"
      ]
     },
     "metadata": {},
     "output_type": "display_data"
    }
   ],
   "source": [
    "\n",
    "def anomaly_detection_svm():\n",
    "    # Load the dataset\n",
    "    \n",
    "    data = pd.read_csv('US_Util_2020.csv')\n",
    "    \n",
    "    #convert all the values in the columns into numeric\n",
    "    label_encoder = LabelEncoder()\n",
    "    for column in data.select_dtypes(include=['object']).columns:\n",
    "        data[column] = label_encoder.fit_transform(data[column])\n",
    "    \n",
    "    \n",
    "    data = data.drop(['zip'], axis=1)\n",
    "    \n",
    "    data.info()\n",
    "    X = data.drop('res_rate', axis=1)  # Assuming 'target' is the column name of the continuous target variable\n",
    "    y_cont = data['res_rate']\n",
    "    \n",
    "    data = data.dropna(axis=0, inplace=True)\n",
    "#     #convert all the values in the columns into numeric\n",
    "#     for column in data.columns:\n",
    "#         data[column] = pd.to_numeric(data[column], errors='coerce')\n",
    "\n",
    "    y = np.where(y_cont > 0.1, 1, 0)  # Define `threshold` based on your domain knowledge\n",
    "    \n",
    "    selector = SelectKBest(f_classif, k=6)\n",
    "    X_selected = selector.fit_transform(X, y)\n",
    "    \n",
    "    X_selected\n",
    "    \n",
    "    \n",
    "    \n",
    "    # Split the data into train and test\n",
    "    X_train, X_test, y_train, y_test = train_test_split(X_selected, y, test_size=0.2, random_state=42)\n",
    "    \n",
    "    # Scale the features\n",
    "    scaler = StandardScaler()\n",
    "    X_train_scaled = scaler.fit_transform(X_train)\n",
    "    X_test_scaled = scaler.transform(X_test)\n",
    "    \n",
    "#     # Use SVM and fit the model\n",
    "#     svm = SVC(kernel='rbf', gamma='scale', degree=5, coef0=0.0)\n",
    "#     svm.fit(X_train_scaled, y_train)\n",
    "    \n",
    "     # Predict on the test set\n",
    "#     y_pred = svm.predict(X_test_scaled)\n",
    "    \n",
    "     # Initialize One-Class SVM\n",
    "    # Note: nu should be an estimate of the proportion of outliers\n",
    "    oc_svm = OneClassSVM(kernel='rbf', gamma='auto', nu=0.05)\n",
    "    # Fit the model on the training data\n",
    "    # Note: One-Class SVM is typically trained only on the normal data (label 0)\n",
    "    oc_svm.fit(X_train_scaled[y_train == 0])\n",
    "    \n",
    "   \n",
    "    \n",
    "    # Predict on the test data\n",
    "    y_pred = oc_svm.predict(X_test_scaled)\n",
    "    # Convert predictions to match the original label (1 for normal, -1 for anomaly)\n",
    "    y_pred = np.where(y_pred == 1, 0, 1)\n",
    "    \n",
    "    # Evaluate the final outcome\n",
    "    precision = precision_score(y_test, y_pred, average='weighted')\n",
    "    recall = recall_score(y_test, y_pred, average='weighted')\n",
    "    f1 = f1_score(y_test, y_pred, average='weighted')\n",
    "    \n",
    "    # Print evaluation metrics\n",
    "    print(f'Precision: {precision:.3f}')\n",
    "    print(f'Recall: {recall:.3f}')\n",
    "    print(f'F1 Score: {f1:.3f}')\n",
    "    \n",
    "    print(classification_report(y_test, y_pred))\n",
    "    \n",
    "    \n",
    "    # Use a confusion matrix for visualization of the outcome\n",
    "    cm = confusion_matrix(y_test, y_pred, labels=[0, 1])\n",
    "    disp = ConfusionMatrixDisplay(confusion_matrix=cm, display_labels=['Anomaly', 'Normal'])\n",
    "    disp.plot()\n",
    "    plt.show()\n",
    "\n",
    "# Example usage\n",
    "\n",
    "anomaly_detection_svm()"
   ]
  },
  {
   "cell_type": "code",
   "execution_count": null,
   "id": "ad4c1d30",
   "metadata": {},
   "outputs": [],
   "source": []
  }
 ],
 "metadata": {
  "kernelspec": {
   "display_name": "Python 3 (ipykernel)",
   "language": "python",
   "name": "python3"
  },
  "language_info": {
   "codemirror_mode": {
    "name": "ipython",
    "version": 3
   },
   "file_extension": ".py",
   "mimetype": "text/x-python",
   "name": "python",
   "nbconvert_exporter": "python",
   "pygments_lexer": "ipython3",
   "version": "3.9.13"
  }
 },
 "nbformat": 4,
 "nbformat_minor": 5
}
