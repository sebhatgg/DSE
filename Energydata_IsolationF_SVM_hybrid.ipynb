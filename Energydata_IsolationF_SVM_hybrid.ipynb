{
 "cells": [
  {
   "cell_type": "code",
   "execution_count": null,
   "id": "0063e3c3",
   "metadata": {},
   "outputs": [],
   "source": []
  },
  {
   "cell_type": "code",
   "execution_count": 8,
   "id": "f502fced",
   "metadata": {},
   "outputs": [
    {
     "name": "stdout",
     "output_type": "stream",
     "text": [
      "              precision    recall  f1-score   support\n",
      "\n",
      "           0       0.93      0.98      0.95      2839\n",
      "           1       0.93      0.80      0.86      1108\n",
      "\n",
      "    accuracy                           0.93      3947\n",
      "   macro avg       0.93      0.89      0.91      3947\n",
      "weighted avg       0.93      0.93      0.93      3947\n",
      "\n",
      "Precision: 0.9261610424323421\n",
      "Recall: 0.9764001408946812\n",
      "F1 Score: 0.9506172839506172\n"
     ]
    },
    {
     "data": {
      "image/png": "[encoded data removed]",
      "text/plain": [
       "<Figure size 640x480 with 2 Axes>"
      ]
     },
     "metadata": {},
     "output_type": "display_data"
    }
   ],
   "source": [
    "import numpy as np\n",
    "import pandas as pd\n",
    "from sklearn.ensemble import IsolationForest\n",
    "from sklearn.svm import SVC\n",
    "from sklearn.metrics import precision_score, recall_score, f1_score, confusion_matrix, ConfusionMatrixDisplay\n",
    "from sklearn.model_selection import train_test_split\n",
    "import matplotlib.pyplot as plt\n",
    "from sklearn.feature_selection import SelectKBest, f_classif\n",
    "from sklearn.metrics import classification_report, confusion_matrix\n",
    "\n",
    "def hybrid_anomaly_detection():\n",
    "    \n",
    "    data = pd.read_csv('energydata.csv')\n",
    "    \n",
    "    data = data.drop('date', axis=1)\n",
    "    \n",
    "    X = data.drop('Windspeed', axis=1)  # Assuming 'target' is the column name of the continuous target variable\n",
    "    y_cont = data['Windspeed']\n",
    "    \n",
    "    #convert all the values in the columns into numeric\n",
    "    for column in data.columns:\n",
    "        data[column] = pd.to_numeric(data[column], errors='coerce')\n",
    "\n",
    "    data.dropna(axis=0, inplace=True)\n",
    "    \n",
    "#     #Scatter plot\n",
    "#     sns.pairplot(data, kind='scatter')\n",
    "#     plt.title('Scatter Plot')\n",
    "#     plt.show()\n",
    "    \n",
    "    \n",
    "    y = np.where(y_cont > 5, 1, 0)  # Define `threshold` based on the dataset\n",
    "    \n",
    "        \n",
    "    # Select top k features; you might adjust k based on your dataset\n",
    "    selector = SelectKBest(f_classif, k=10)\n",
    "    X_selected = selector.fit_transform(X, y)\n",
    "    \n",
    "    \n",
    "    \n",
    "    \n",
    "    \n",
    "    \n",
    "    # Split the dataset into training and testing sets\n",
    "    X_train, X_test, y_train, y_test = train_test_split(X_selected, y, test_size=0.2, random_state=42)\n",
    "\n",
    "    # Phase 1: Train Isolation Forest on the training data\n",
    "    iso_forest = IsolationForest(random_state=42)\n",
    "    iso_forest.fit(X_train)\n",
    "    # Predict on the training data to filter for normal data only\n",
    "    train_preds = iso_forest.predict(X_train)\n",
    "\n",
    "    # Filter normal data as input for the SVM\n",
    "    X_train_filtered = X_train[train_preds == 1]\n",
    "    y_train_filtered = y_train[train_preds == 1]\n",
    "\n",
    "    # Phase 2: Train SVM on the filtered normal data\n",
    "    svm = SVC(kernel='rbf', gamma='auto', random_state=42)\n",
    "    svm.fit(X_train_filtered, y_train_filtered)\n",
    "\n",
    "    # Evaluate on the original full test dataset\n",
    "    svm_predictions = svm.predict(X_test)\n",
    "\n",
    "    # Calculate precision, recall, and F1 score\n",
    "    precision = precision_score(y_test, svm_predictions, pos_label=0)\n",
    "    recall = recall_score(y_test, svm_predictions, pos_label=0)\n",
    "    f1 = f1_score(y_test, svm_predictions, pos_label=0)\n",
    "\n",
    "    # Print metrics\n",
    "    \n",
    "    print(classification_report(y_test, svm_predictions))\n",
    "    \n",
    "    print(f\"Precision: {precision}\")\n",
    "    print(f\"Recall: {recall}\")\n",
    "    print(f\"F1 Score: {f1}\")\n",
    "\n",
    "    # Confusion Matrix\n",
    "    cm = confusion_matrix(y_test, svm_predictions, labels=[0, 1])\n",
    "    disp = ConfusionMatrixDisplay(confusion_matrix=cm, display_labels=['Anomaly', 'Normal'])\n",
    "    disp.plot()\n",
    "    plt.show()\n",
    "\n",
    "# Assuming X and y are your dataset's features and labels respectively\n",
    "hybrid_anomaly_detection()\n"
   ]
  },
  {
   "cell_type": "code",
   "execution_count": null,
   "id": "25f1f1a7",
   "metadata": {},
   "outputs": [],
   "source": []
  }
 ],
 "metadata": {
  "kernelspec": {
   "display_name": "Python 3 (ipykernel)",
   "language": "python",
   "name": "python3"
  },
  "language_info": {
   "codemirror_mode": {
    "name": "ipython",
    "version": 3
   },
   "file_extension": ".py",
   "mimetype": "text/x-python",
   "name": "python",
   "nbconvert_exporter": "python",
   "pygments_lexer": "ipython3",
   "version": "3.9.13"
  }
 },
 "nbformat": 4,
 "nbformat_minor": 5
}
