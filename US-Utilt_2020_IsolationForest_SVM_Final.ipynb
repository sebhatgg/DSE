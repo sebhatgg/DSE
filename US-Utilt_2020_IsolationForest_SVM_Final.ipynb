{
 "cells": [
  {
   "cell_type": "markdown",
   "id": "ee679628",
   "metadata": {},
   "source": [
    "#### The implementation of a sequential hybrid anomaly detection model using Isolation Forest and SVM begins by loading and cleaning your data. Then, select crucial features and split the data into training and testing sets. Standardize the features to ensure a uniform scale. First, fit an Isolation Forest to isolate potential anomalies quickly, followed by an SVM to refine anomaly detection with a precise classification boundary. Evaluate the model's performance using precision, recall, F1-score, and a confusion matrix to assess accuracy and sensitivity. This method combines the strengths of both models for robust anomaly detection."
   ]
  },
  {
   "cell_type": "code",
   "execution_count": 1,
   "id": "80c3f2a4",
   "metadata": {},
   "outputs": [],
   "source": [
    "import pandas as pd\n",
    "import numpy as np\n",
    "from sklearn.preprocessing import StandardScaler\n",
    "from sklearn.model_selection import train_test_split\n",
    "from sklearn.feature_selection import SelectKBest, f_classif\n",
    "from sklearn.ensemble import IsolationForest\n",
    "from sklearn.svm import SVC\n",
    "from sklearn.metrics import precision_score, recall_score, f1_score, confusion_matrix\n",
    "import matplotlib.pyplot as plt\n",
    "from sklearn.metrics import classification_report, confusion_matrix\n",
    "from sklearn.metrics import precision_score, recall_score, f1_score, confusion_matrix, ConfusionMatrixDisplay\n",
    "from sklearn.svm import OneClassSVM\n",
    "from sklearn.preprocessing import LabelEncoder"
   ]
  },
  {
   "cell_type": "code",
   "execution_count": 2,
   "id": "4815ea06",
   "metadata": {},
   "outputs": [
    {
     "name": "stderr",
     "output_type": "stream",
     "text": [
      "C:\\Users\\sebha\\anaconda3\\lib\\site-packages\\sklearn\\feature_selection\\_univariate_selection.py:112: UserWarning: Features [4] are constant.\n",
      "  warnings.warn(\"Features %s are constant.\" % constant_features_idx, UserWarning)\n",
      "C:\\Users\\sebha\\anaconda3\\lib\\site-packages\\sklearn\\feature_selection\\_univariate_selection.py:113: RuntimeWarning: invalid value encountered in divide\n",
      "  f = msb / msw\n"
     ]
    },
    {
     "name": "stdout",
     "output_type": "stream",
     "text": [
      "Precision: 0.963\n",
      "Recall: 0.963\n",
      "F1 Score: 0.963\n",
      "              precision    recall  f1-score   support\n",
      "\n",
      "           0       0.95      0.93      0.94      3408\n",
      "           1       0.97      0.98      0.97      7028\n",
      "\n",
      "    accuracy                           0.96     10436\n",
      "   macro avg       0.96      0.96      0.96     10436\n",
      "weighted avg       0.96      0.96      0.96     10436\n",
      "\n"
     ]
    },
    {
     "data": {
      "image/png": "[encoded data removed]",
      "text/plain": [
       "<Figure size 640x480 with 2 Axes>"
      ]
     },
     "metadata": {},
     "output_type": "display_data"
    }
   ],
   "source": [
    "\n",
    "def hybrid_anomaly_detection():\n",
    "    # Load the dataset\n",
    "    data = pd.read_csv('US_Util_2020.csv')\n",
    "    \n",
    "    #convert all the values in the columns into numeric\n",
    "    label_encoder = LabelEncoder()\n",
    "    for column in data.select_dtypes(include=['object']).columns:\n",
    "        data[column] = label_encoder.fit_transform(data[column])\n",
    "    \n",
    "    \n",
    "    data = data.drop(['zip'], axis=1)\n",
    "    \n",
    "#     data.info()\n",
    "    X = data.drop('res_rate', axis=1)  # Assuming 'target' is the column name of the continuous target variable\n",
    "    y_cont = data['res_rate']\n",
    "    \n",
    "    data = data.dropna(axis=0, inplace=True)\n",
    "\n",
    "    y = np.where(y_cont > 0.1, 1, 0)  # Define `threshold` based on your domain knowledge\n",
    "    \n",
    "    selector = SelectKBest(f_classif, k=4)\n",
    "    X_selected = selector.fit_transform(X, y)\n",
    "    \n",
    "    \n",
    "    # Split the data into train and test sets\n",
    "    X_train, X_test, y_train, y_test = train_test_split(X_selected, y, test_size=0.2, random_state=42)\n",
    "    \n",
    "    # Scale the features\n",
    "    scaler = StandardScaler()\n",
    "    X_train_scaled = scaler.fit_transform(X_train)\n",
    "    X_test_scaled = scaler.transform(X_test)\n",
    "        \n",
    "    # Use Isolation Forest to identify normal data points\n",
    "    iso_forest = IsolationForest(contamination=0.1, n_estimators=100, random_state=42)\n",
    "    iso_forest.fit(X_train_scaled)\n",
    "    iso_preds = iso_forest.predict(X_train_scaled)\n",
    "    \n",
    "    # Append Isolation Forest predictions as a new feature to the scaled data\n",
    "    X_train_scaled_with_pred = np.hstack((X_train_scaled, iso_preds.reshape(-1, 1)))\n",
    "    \n",
    "    # Filter only normal data points as identified by Isolation Forest\n",
    "    normal_indices = np.where(iso_preds == 1)[0]  # Assuming '1' is normal\n",
    "    X_train_normal = X_train_scaled[normal_indices]\n",
    "    y_train_normal = y_train[normal_indices]\n",
    "    \n",
    "    # Train SVM on the filtered normal data\n",
    "    svm = SVC(kernel='rbf', gamma='auto')\n",
    "    svm.fit(X_train_normal, y_train_normal)\n",
    "    \n",
    "    # Prepare test data by appending Isolation Forest predictions\n",
    "    iso_preds_test = iso_forest.predict(X_test_scaled)\n",
    "    X_test_scaled_with_pred = np.hstack((X_test_scaled, iso_preds_test.reshape(-1, 1)))\n",
    "    \n",
    "    # Predict using SVM on the test set\n",
    "    svm_preds = svm.predict(X_test_scaled_with_pred[:, :-1])  # Exclude the appended Isolation Forest predictions\n",
    "    \n",
    "    # Evaluate the final outcome from SVM\n",
    "    precision = precision_score(y_test, svm_preds, average='weighted', zero_division=0)\n",
    "    recall = recall_score(y_test, svm_preds, average='weighted', zero_division=0)\n",
    "    f1 = f1_score(y_test, svm_preds, average='weighted', zero_division=0)\n",
    "    \n",
    "    print(f'Precision: {precision:.3f}')\n",
    "    print(f'Recall: {recall:.3f}')\n",
    "    print(f'F1 Score: {f1:.3f}')\n",
    "    \n",
    "    \n",
    "    print(classification_report(y_test, svm_preds))\n",
    "    \n",
    "    \n",
    "    # Use a confusion matrix for visualization of the outcome\n",
    "    \n",
    "    cm = confusion_matrix(y_test, svm_preds, labels=[0, 1])\n",
    "    disp = ConfusionMatrixDisplay(confusion_matrix=cm, display_labels=['Anomaly', 'Normal'])\n",
    "    disp.plot()\n",
    "    plt.show()\n",
    "\n",
    "\n",
    "hybrid_anomaly_detection()"
   ]
  },
  {
   "cell_type": "code",
   "execution_count": null,
   "id": "bed8aa78",
   "metadata": {},
   "outputs": [],
   "source": []
  }
 ],
 "metadata": {
  "kernelspec": {
   "display_name": "Python 3 (ipykernel)",
   "language": "python",
   "name": "python3"
  },
  "language_info": {
   "codemirror_mode": {
    "name": "ipython",
    "version": 3
   },
   "file_extension": ".py",
   "mimetype": "text/x-python",
   "name": "python",
   "nbconvert_exporter": "python",
   "pygments_lexer": "ipython3",
   "version": "3.9.13"
  }
 },
 "nbformat": 4,
 "nbformat_minor": 5
}
